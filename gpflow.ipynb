{
 "cells": [
  {
   "cell_type": "code",
   "execution_count": 1,
   "metadata": {
    "collapsed": false,
    "slideshow": {
     "slide_type": "skip"
    }
   },
   "outputs": [],
   "source": [
    "%matplotlib inline\n",
    "\n",
    "import tensorflow as tf"
   ]
  },
  {
   "cell_type": "markdown",
   "metadata": {
    "slideshow": {
     "slide_type": "slide"
    }
   },
   "source": [
    "# <center><b>Towards GPflow 1.0</b></center>\n",
    "\n",
    "\n",
    "<center><p>Artem Artemev</center>\n",
    "<center><p>Cambridge, UK</center>"
   ]
  },
  {
   "cell_type": "markdown",
   "metadata": {
    "slideshow": {
     "slide_type": "slide"
    }
   },
   "source": [
    "\n",
    "### Agenda\n"
   ]
  },
  {
   "cell_type": "markdown",
   "metadata": {
    "slideshow": {
     "slide_type": "fragment"
    }
   },
   "source": [
    "* Use TensorFlow \"right\"."
   ]
  },
  {
   "cell_type": "markdown",
   "metadata": {
    "slideshow": {
     "slide_type": "fragment"
    }
   },
   "source": [
    "* GPflow before."
   ]
  },
  {
   "cell_type": "markdown",
   "metadata": {
    "slideshow": {
     "slide_type": "fragment"
    }
   },
   "source": [
    "* GPflow re-design."
   ]
  },
  {
   "cell_type": "markdown",
   "metadata": {
    "slideshow": {
     "slide_type": "fragment"
    }
   },
   "source": [
    "* No conclusions has made."
   ]
  },
  {
   "cell_type": "markdown",
   "metadata": {
    "slideshow": {
     "slide_type": "slide"
    }
   },
   "source": [
    "# <center><b>\"Simplicity is prerequisite for reliability.\"</b></center>\n",
    "\n",
    "_<center><p><p>-Edsger Dijkstra</center>_"
   ]
  },
  {
   "cell_type": "markdown",
   "metadata": {
    "slideshow": {
     "slide_type": "slide"
    }
   },
   "source": [
    "# <center><b>Use TensorFlow \"right\"</b></center>"
   ]
  },
  {
   "cell_type": "markdown",
   "metadata": {
    "slideshow": {
     "slide_type": "subslide"
    }
   },
   "source": [
    "### TensorFlow has two major terms"
   ]
  },
  {
   "cell_type": "markdown",
   "metadata": {
    "slideshow": {
     "slide_type": "fragment"
    }
   },
   "source": [
    "* Graph"
   ]
  },
  {
   "cell_type": "markdown",
   "metadata": {
    "slideshow": {
     "slide_type": "fragment"
    }
   },
   "source": [
    "* Session"
   ]
  },
  {
   "cell_type": "markdown",
   "metadata": {
    "slideshow": {
     "slide_type": "subslide"
    }
   },
   "source": [
    "### Graph"
   ]
  },
  {
   "cell_type": "markdown",
   "metadata": {
    "slideshow": {
     "slide_type": "fragment"
    }
   },
   "source": [
    "* It is only model definition... ?!\n",
    "* Model's symbolic representation via operations and tensors."
   ]
  },
  {
   "cell_type": "markdown",
   "metadata": {
    "slideshow": {
     "slide_type": "fragment"
    }
   },
   "source": [
    "* Graph is **immutable**. (1)\n",
    "* Graph is a set of scopes - operations and variables."
   ]
  },
  {
   "cell_type": "markdown",
   "metadata": {
    "slideshow": {
     "slide_type": "fragment"
    }
   },
   "source": [
    "* From (1) it follows that scopes are not modifiable too."
   ]
  },
  {
   "cell_type": "markdown",
   "metadata": {
    "slideshow": {
     "slide_type": "subslide"
    }
   },
   "source": [
    "### Example"
   ]
  },
  {
   "cell_type": "code",
   "execution_count": 2,
   "metadata": {
    "collapsed": false,
    "slideshow": {
     "slide_type": "fragment"
    }
   },
   "outputs": [],
   "source": [
    "a = tf.get_variable('a', shape=())\n",
    "b = tf.get_variable('b', shape=())\n",
    "\n",
    "with tf.name_scope('c'):\n",
    "    c1 = a + b\n",
    "\n",
    "with tf.name_scope('c'):\n",
    "    c2 = a + b"
   ]
  },
  {
   "cell_type": "code",
   "execution_count": 3,
   "metadata": {
    "collapsed": false,
    "slideshow": {
     "slide_type": "fragment"
    }
   },
   "outputs": [
    {
     "data": {
      "text/plain": [
       "'c/add:0'"
      ]
     },
     "execution_count": 3,
     "metadata": {},
     "output_type": "execute_result"
    }
   ],
   "source": [
    "c1.name"
   ]
  },
  {
   "cell_type": "code",
   "execution_count": 4,
   "metadata": {
    "collapsed": false,
    "slideshow": {
     "slide_type": "fragment"
    }
   },
   "outputs": [
    {
     "data": {
      "text/plain": [
       "'c_1/add:0'"
      ]
     },
     "execution_count": 4,
     "metadata": {},
     "output_type": "execute_result"
    }
   ],
   "source": [
    "c2.name"
   ]
  },
  {
   "cell_type": "markdown",
   "metadata": {
    "slideshow": {
     "slide_type": "subslide"
    }
   },
   "source": [
    "### Session\n",
    "\n",
    "* Works with only graph.\n",
    "* Executes graph operations.\n",
    "* Allocates resources, not the **graph**."
   ]
  },
  {
   "cell_type": "markdown",
   "metadata": {
    "slideshow": {
     "slide_type": "subslide"
    }
   },
   "source": [
    "### One model - one graph - many sessions !"
   ]
  },
  {
   "cell_type": "markdown",
   "metadata": {
    "slideshow": {
     "slide_type": "fragment"
    }
   },
   "source": [
    "* Only **graph definition** matters in GPflow design."
   ]
  },
  {
   "cell_type": "markdown",
   "metadata": {
    "slideshow": {
     "slide_type": "fragment"
    }
   },
   "source": [
    "* **Session** can be interchangeable."
   ]
  },
  {
   "cell_type": "markdown",
   "metadata": {
    "slideshow": {
     "slide_type": "slide"
    }
   },
   "source": [
    "# <center><b>GPflow before</b></center>"
   ]
  },
  {
   "cell_type": "markdown",
   "metadata": {
    "slideshow": {
     "slide_type": "subslide"
    }
   },
   "source": [
    "### Status Quo"
   ]
  },
  {
   "cell_type": "markdown",
   "metadata": {
    "slideshow": {
     "slide_type": "fragment"
    }
   },
   "source": [
    "* One _flat_ TensorFlow variable contains all parameters."
   ]
  },
  {
   "cell_type": "markdown",
   "metadata": {
    "slideshow": {
     "slide_type": "fragment"
    }
   },
   "source": [
    "* TensorFlow parameter name scope is _virtual_."
   ]
  },
  {
   "cell_type": "markdown",
   "metadata": {
    "slideshow": {
     "slide_type": "fragment"
    }
   },
   "source": [
    "* Parameter as a FSM (finite state machine). For e.g. parameter has `recompile` flag."
   ]
  },
  {
   "cell_type": "markdown",
   "metadata": {
    "slideshow": {
     "slide_type": "fragment"
    }
   },
   "source": [
    "* **Next things deserve stand-alone slides!**"
   ]
  },
  {
   "cell_type": "markdown",
   "metadata": {
    "slideshow": {
     "slide_type": "subslide"
    }
   },
   "source": [
    "### Hacky functions\n",
    "\n",
    "* get_free_state\n",
    "\n",
    "* get_feed_dict_keys\n",
    "\n",
    "* update_feed_dict\n",
    "\n",
    "* make_tf_array\n",
    "\n",
    "* get_free_state"
   ]
  },
  {
   "cell_type": "markdown",
   "metadata": {
    "slideshow": {
     "slide_type": "subslide"
    }
   },
   "source": [
    "### Hacky functions\n",
    "\n",
    "* Most of the code exist just to make this possible:\n",
    "```python\n",
    "def obj(x):\n",
    "    self.num_fevals += 1\n",
    "    feed_dict = {self._free_vars: x}\n",
    "    self.update_feed_dict(self._feed_dict_keys, feed_dict)\n",
    "    f, g = self.session.run([self._minusF, self._minusG], feed_dict=feed_dict)\n",
    "    return f.astype(np.float64), g.astype(np.float64)\n",
    "```"
   ]
  },
  {
   "cell_type": "markdown",
   "metadata": {
    "slideshow": {
     "slide_type": "subslide"
    }
   },
   "source": [
    "### Not clear interface\n",
    "\n",
    "* When user should call `compile`?\n",
    "* What autoflow does with model internals?"
   ]
  },
  {
   "cell_type": "markdown",
   "metadata": {
    "slideshow": {
     "slide_type": "slide"
    }
   },
   "source": [
    "# <center><b>GPflow re-design</b></center>"
   ]
  },
  {
   "cell_type": "markdown",
   "metadata": {
    "slideshow": {
     "slide_type": "subslide"
    }
   },
   "source": [
    "### Main goals"
   ]
  },
  {
   "cell_type": "markdown",
   "metadata": {
    "slideshow": {
     "slide_type": "fragment"
    }
   },
   "source": [
    "* Use external graphs and sessions."
   ]
  },
  {
   "cell_type": "markdown",
   "metadata": {
    "slideshow": {
     "slide_type": "fragment"
    }
   },
   "source": [
    "* One param - one TensorFlow variable."
   ]
  },
  {
   "cell_type": "markdown",
   "metadata": {
    "slideshow": {
     "slide_type": "fragment"
    }
   },
   "source": [
    "* Optimization is not part of the model."
   ]
  },
  {
   "cell_type": "markdown",
   "metadata": {
    "slideshow": {
     "slide_type": "fragment"
    }
   },
   "source": [
    "* Simple and clean design (as far as possible)."
   ]
  },
  {
   "cell_type": "markdown",
   "metadata": {
    "slideshow": {
     "slide_type": "subslide"
    }
   },
   "source": [
    "### Glossary"
   ]
  },
  {
   "cell_type": "markdown",
   "metadata": {
    "slideshow": {
     "slide_type": "fragment"
    }
   },
   "source": [
    "* **Build** is a process of defining the _graph_."
   ]
  },
  {
   "cell_type": "markdown",
   "metadata": {
    "slideshow": {
     "slide_type": "fragment"
    }
   },
   "source": [
    "* **Compile** is a two phase process which consist of building and initialising for specific _session_. "
   ]
  },
  {
   "cell_type": "markdown",
   "metadata": {
    "slideshow": {
     "slide_type": "subslide"
    }
   },
   "source": [
    "### Base\n",
    "\n",
    "* _Build_ status enum class.\n",
    "\n",
    "* _ICompilable_ interface.\n",
    "\n",
    "* _Parentable_ class, underwent minimum amount of changes.\n"
   ]
  },
  {
   "cell_type": "markdown",
   "metadata": {
    "slideshow": {
     "slide_type": "fragment"
    }
   },
   "source": [
    "* _CompilableNode_ class joins two separate interfaces _ICompilable_ and _Parentable_. It implements common parts, provides useful methods."
   ]
  },
  {
   "cell_type": "markdown",
   "metadata": {
    "slideshow": {
     "slide_type": "fragment"
    }
   },
   "source": [
    "* _AutoFlow_ class. It is not decorator anymore!"
   ]
  },
  {
   "cell_type": "markdown",
   "metadata": {
    "slideshow": {
     "slide_type": "fragment"
    }
   },
   "source": [
    "But _autoflow_ decorator still exists ;)"
   ]
  },
  {
   "cell_type": "markdown",
   "metadata": {
    "slideshow": {
     "slide_type": "subslide"
    }
   },
   "source": [
    "### Build status class\n",
    "\n",
    "```python\n",
    "class Build(enum.Enum):\n",
    "    YES = 1\n",
    "    NO = 0  # pylint: disable=C0103\n",
    "    NOT_COMPATIBLE_GRAPH = None\n",
    "```"
   ]
  },
  {
   "cell_type": "markdown",
   "metadata": {
    "slideshow": {
     "slide_type": "subslide"
    }
   },
   "source": [
    "### Compilable interface\n",
    "\n",
    "```python\n",
    "class ICompilable:\n",
    "    __metaclass__ = abc.ABCMeta\n",
    "\n",
    "    @abc.abstractproperty\n",
    "    def graph(self):\n",
    "        pass\n",
    "\n",
    "    @abc.abstractmethod\n",
    "    def compile(self, session=None, keep_session=False):\n",
    "        pass\n",
    "\n",
    "    @abc.abstractmethod\n",
    "    def initialize(self, session=None):\n",
    "        pass\n",
    "\n",
    "    @abc.abstractmethod\n",
    "    def is_built(self, graph=None):\n",
    "        pass\n",
    "\n",
    "    @abc.abstractmethod\n",
    "    def _build(self):\n",
    "        pass\n",
    "\n",
    "    @abc.abstractmethod\n",
    "    def clear(self):\n",
    "        pass\n",
    "```"
   ]
  },
  {
   "cell_type": "code",
   "execution_count": 12,
   "metadata": {
    "collapsed": false
   },
   "outputs": [
    {
     "ename": "NameError",
     "evalue": "name 'gpflow' is not defined",
     "output_type": "error",
     "traceback": [
      "\u001b[0;31m---------------------------------------------------------------------------\u001b[0m",
      "\u001b[0;31mNameError\u001b[0m                                 Traceback (most recent call last)",
      "\u001b[0;32m<ipython-input-12-0dd496b73e16>\u001b[0m in \u001b[0;36m<module>\u001b[0;34m()\u001b[0m\n\u001b[0;32m----> 1\u001b[0;31m \u001b[0mA\u001b[0m \u001b[0;34m=\u001b[0m \u001b[0mgpflow\u001b[0m\u001b[0;34m.\u001b[0m\u001b[0mparams\u001b[0m\u001b[0;34m.\u001b[0m\u001b[0mParameterized\u001b[0m\u001b[0;34m(\u001b[0m\u001b[0mname\u001b[0m\u001b[0;34m=\u001b[0m\u001b[0;34m'paramz'\u001b[0m\u001b[0;34m)\u001b[0m\u001b[0;34m\u001b[0m\u001b[0m\n\u001b[0m\u001b[1;32m      2\u001b[0m \u001b[0mexternal_param\u001b[0m \u001b[0;34m=\u001b[0m \u001b[0mtf\u001b[0m\u001b[0;34m.\u001b[0m\u001b[0mget_variable\u001b[0m\u001b[0;34m(\u001b[0m\u001b[0;34m'external_param'\u001b[0m\u001b[0;34m,\u001b[0m \u001b[0mshape\u001b[0m\u001b[0;34m=\u001b[0m\u001b[0;34m(\u001b[0m\u001b[0;34m)\u001b[0m\u001b[0;34m)\u001b[0m\u001b[0;34m\u001b[0m\u001b[0m\n\u001b[1;32m      3\u001b[0m \u001b[0mA\u001b[0m\u001b[0;34m.\u001b[0m\u001b[0ma\u001b[0m \u001b[0;34m=\u001b[0m \u001b[0mgpflow\u001b[0m\u001b[0;34m.\u001b[0m\u001b[0mparams\u001b[0m\u001b[0;34m.\u001b[0m\u001b[0mParam\u001b[0m\u001b[0;34m(\u001b[0m\u001b[0mexternal_param\u001b[0m\u001b[0;34m)\u001b[0m\u001b[0;34m\u001b[0m\u001b[0m\n\u001b[1;32m      4\u001b[0m \u001b[0mA\u001b[0m\u001b[0;34m.\u001b[0m\u001b[0mb\u001b[0m \u001b[0;34m=\u001b[0m \u001b[0mgpflow\u001b[0m\u001b[0;34m.\u001b[0m\u001b[0mparams\u001b[0m\u001b[0;34m.\u001b[0m\u001b[0mParam\u001b[0m\u001b[0;34m(\u001b[0m\u001b[0;36m100\u001b[0m \u001b[0;34m*\u001b[0m \u001b[0mexternal_param\u001b[0m \u001b[0;34m+\u001b[0m \u001b[0;36m1\u001b[0m\u001b[0;34m)\u001b[0m\u001b[0;34m\u001b[0m\u001b[0m\n\u001b[1;32m      5\u001b[0m \u001b[0mA\u001b[0m\u001b[0;34m.\u001b[0m\u001b[0mc\u001b[0m \u001b[0;34m=\u001b[0m \u001b[0mgpflow\u001b[0m\u001b[0;34m.\u001b[0m\u001b[0mparams\u001b[0m\u001b[0;34m.\u001b[0m\u001b[0mParam\u001b[0m\u001b[0;34m(\u001b[0m\u001b[0;36m100\u001b[0m\u001b[0;34m)\u001b[0m\u001b[0;34m\u001b[0m\u001b[0m\n",
      "\u001b[0;31mNameError\u001b[0m: name 'gpflow' is not defined"
     ]
    }
   ],
   "source": [
    "A = gpflow.params.Parameterized(name='paramz')\n",
    "external_param = tf.get_variable('external_param', shape=())\n",
    "A.a = gpflow.params.Param(external_param)\n",
    "A.b = gpflow.params.Param(100 * external_param + 1)\n",
    "A.c = gpflow.params.Param(100)"
   ]
  },
  {
   "cell_type": "markdown",
   "metadata": {
    "slideshow": {
     "slide_type": "slide"
    }
   },
   "source": [
    "### Python - a scientific calculator\n",
    "\n",
    "\n",
    "\n",
    "Whose calculator looks like this?\n",
    "\n",
    "```python\n",
    ">>> (131 + 21.5 + 100.2 + 88.7 + 99.5 + 100.5 + 200.5)/4\n",
    "185.475\n",
    "```\n",
    "\n",
    "\n",
    "*Python 3 is my favorite calculator (not Python 2 because 1/2 = 0)*\n",
    "\n",
    "Beyond basic operations:\n"
   ]
  },
  {
   "cell_type": "markdown",
   "metadata": {
    "slideshow": {
     "slide_type": "fragment"
    }
   },
   "source": [
    "\n",
    "- `fabs()`, `abs()`, `sin()`, `cos()`, `gcd()`, `log()` and more (See [math](https://docs.python.org/3/library/math.html))\n",
    "\n",
    "- Descriptive statistics (See [statistics](https://docs.python.org/3/library/statistics.html#module-statistics))\n"
   ]
  },
  {
   "cell_type": "markdown",
   "metadata": {
    "slideshow": {
     "slide_type": "subslide"
    }
   },
   "source": [
    "### Python - a scientific calculator\n",
    "\n",
    "- Develop your own functions: unit conversion, finding correlation, .., anything really\n",
    "\n",
    "- Use PYTHONSTARTUP to extend the battery of readily available mathematical functions\n",
    "\n",
    "```python\n",
    "$ PYTHONSTARTUP=~/work/dmwp/pycon-us-2016/startup_math.py idle3 -s\n",
    "```\n",
    "\n"
   ]
  },
  {
   "cell_type": "markdown",
   "metadata": {
    "slideshow": {
     "slide_type": "subslide"
    }
   },
   "source": [
    "\n",
    "### Unit conversion functions\n",
    "\n",
    "```python\n",
    "\n",
    ">>> unit_conversion()\n",
    "1. Kilometers to Miles\n",
    "2. Miles to Kilometers\n",
    "3. Kilograms to Pounds\n",
    "4. Pounds to Kilograms\n",
    "5. Celsius to Fahrenheit\n",
    "6. Fahrenheit to Celsius\n",
    "Which conversion would you like to do? 6\n",
    "Enter temperature in fahrenheit: 98\n",
    "Temperature in celsius: 36.66666666666667\n",
    ">>> \n",
    "\n",
    "```"
   ]
  },
  {
   "cell_type": "markdown",
   "metadata": {
    "slideshow": {
     "slide_type": "subslide"
    }
   },
   "source": [
    "### Finding linear correlation\n",
    "\n",
    "```python\n",
    ">>> \n",
    ">>> x = [1, 2, 3, 4]\n",
    ">>> y = [2, 4, 6.1, 7.9]\n",
    ">>> find_corr_x_y(x, y)\n",
    "0.9995411791453812\n",
    "\n",
    "```"
   ]
  },
  {
   "cell_type": "markdown",
   "metadata": {
    "slideshow": {
     "slide_type": "notes"
    }
   },
   "source": [
    "So, that was Python and it's standard libraries. When you bring in third party libraries to the mix, Python becomes a seriously fancy calculator.\n",
    "\n",
    "Who has heard about SymPy?\n",
    "\n",
    "You can give it algebraic expressions to a function and a graph will be created for you.\n",
    "\n",
    "You can give an equation and out comes the solutions for that equation.\n",
    "\n",
    "We can even solve calculus problems."
   ]
  },
  {
   "cell_type": "markdown",
   "metadata": {
    "slideshow": {
     "slide_type": "slide"
    }
   },
   "source": [
    "### Python - a really fancy calculator\n",
    "\n",
    "SymPy - a pure Python symbolic math library\n",
    "\n",
    "*from sympy import awesomeness*  - don't try that :)\n",
    "\n",
    "\n"
   ]
  },
  {
   "cell_type": "code",
   "execution_count": 5,
   "metadata": {
    "collapsed": false,
    "slideshow": {
     "slide_type": "subslide"
    }
   },
   "outputs": [
    {
     "data": {
      "image/png": "[encoded data removed]",
      "text/plain": [
       "<matplotlib.figure.Figure at 0x118d04a20>"
      ]
     },
     "metadata": {},
     "output_type": "display_data"
    }
   ],
   "source": [
    "# Create graphs from algebraic expressions\n",
    "\n",
    "from sympy import Symbol, plot\n",
    "x = Symbol('x')\n",
    "p = plot(2*x**2 + 2*x + 2)\n"
   ]
  },
  {
   "cell_type": "code",
   "execution_count": 6,
   "metadata": {
    "collapsed": false,
    "slideshow": {
     "slide_type": "subslide"
    }
   },
   "outputs": [
    {
     "data": {
      "text/plain": [
       "[-1/2]"
      ]
     },
     "execution_count": 6,
     "metadata": {},
     "output_type": "execute_result"
    }
   ],
   "source": [
    "# Solve equations\n",
    "\n",
    "from sympy import solve, Symbol\n",
    "x = Symbol('x')\n",
    "solve(2*x + 1)\n"
   ]
  },
  {
   "cell_type": "code",
   "execution_count": 7,
   "metadata": {
    "collapsed": false,
    "slideshow": {
     "slide_type": "subslide"
    }
   },
   "outputs": [
    {
     "data": {
      "text/plain": [
       "1"
      ]
     },
     "execution_count": 7,
     "metadata": {},
     "output_type": "execute_result"
    }
   ],
   "source": [
    "# Limits\n",
    "\n",
    "from sympy import Symbol, Limit, sin\n",
    "x = Symbol('x')\n",
    "Limit(sin(x)/x, x, 0).doit()\n",
    "\n",
    "\n"
   ]
  },
  {
   "cell_type": "code",
   "execution_count": 8,
   "metadata": {
    "collapsed": false,
    "slideshow": {
     "slide_type": "subslide"
    }
   },
   "outputs": [
    {
     "data": {
      "image/png": "[encoded data removed]",
      "text/latex": [
       "$$\\left(\\frac{\\left(2 x + 1\\right) \\cos{\\left (x \\right )}}{\\sin{\\left (x \\right )}} + 2 \\log{\\left (\\sin{\\left (x \\right )} \\right )}\\right) \\sin^{2 x + 1}{\\left (x \\right )}$$"
      ],
      "text/plain": [
       "⎛(2⋅x + 1)⋅cos(x)                ⎞    2⋅x + 1   \n",
       "⎜──────────────── + 2⋅log(sin(x))⎟⋅sin       (x)\n",
       "⎝     sin(x)                     ⎠              "
      ]
     },
     "execution_count": 8,
     "metadata": {},
     "output_type": "execute_result"
    }
   ],
   "source": [
    "# Derivative\n",
    "\n",
    "from sympy import Symbol, Derivative, sin, init_printing\n",
    "x = Symbol('x')\n",
    "init_printing()\n",
    "Derivative(sin(x)**(2*x+1), x).doit()"
   ]
  },
  {
   "cell_type": "code",
   "execution_count": 9,
   "metadata": {
    "collapsed": false,
    "slideshow": {
     "slide_type": "subslide"
    }
   },
   "outputs": [
    {
     "data": {
      "image/png": "[encoded data removed]",
      "text/latex": [
       "$$\\frac{2 x^{\\frac{3}{2}}}{3}$$"
      ],
      "text/plain": [
       "   3/2\n",
       "2⋅x   \n",
       "──────\n",
       "  3   "
      ]
     },
     "execution_count": 9,
     "metadata": {},
     "output_type": "execute_result"
    }
   ],
   "source": [
    "# Indefinite integral\n",
    "\n",
    "from sympy import Symbol, Integral, sqrt, sin, init_printing\n",
    "x = Symbol('x')\n",
    "init_printing()\n",
    "Integral(sqrt(x)).doit()"
   ]
  },
  {
   "cell_type": "code",
   "execution_count": 10,
   "metadata": {
    "collapsed": false,
    "slideshow": {
     "slide_type": "fragment"
    }
   },
   "outputs": [
    {
     "data": {
      "image/png": "[encoded data removed]",
      "text/latex": [
       "$$\\frac{4 \\sqrt{2}}{3}$$"
      ],
      "text/plain": [
       "4⋅√2\n",
       "────\n",
       " 3  "
      ]
     },
     "execution_count": 10,
     "metadata": {},
     "output_type": "execute_result"
    }
   ],
   "source": [
    "# Definite integral\n",
    "\n",
    "from sympy import Symbol, Integral, sqrt\n",
    "x = Symbol('x')\n",
    "Integral(sqrt(x), (x, 0, 2)).doit()"
   ]
  },
  {
   "cell_type": "markdown",
   "metadata": {
    "slideshow": {
     "slide_type": "notes"
    }
   },
   "source": [
    "I will pause for a moment now. In the first two slides, we have seen how Python can be a super awesome calculator. What does that buy us? We have now been able to show that you can make computer programs literally do your homework. Write a program to do your work once and you will never have to make those lengthy calculations yourselves. Can we use Python to do more? \n",
    "\n",
    "Let's continue."
   ]
  },
  {
   "cell_type": "markdown",
   "metadata": {
    "slideshow": {
     "slide_type": "slide"
    }
   },
   "source": [
    "<center><h1>Can we do more than write smart calculators?</h1></center>\n",
    "\n"
   ]
  },
  {
   "cell_type": "markdown",
   "metadata": {
    "slideshow": {
     "slide_type": "notes"
    }
   },
   "source": [
    "Python can be more than a super powerful calculator. We can use it to enhance the learning experience of other subjects. Next, I have three examples including a demo. First up, a video of a projectile motion. This program uses matplotlib's animation API to create a basic animation of a projectile motion - a fairly common subject introduced in introductory Physics. The program which is linked asks for the angle of projection and speed and then draws the trajectory of the projectile. Just by running the program multiple times, we can see how the trajectory changes. We don't have to go outside and start throwing balls..\n",
    "\n",
    "Next, we will put Jupyter Notebook's interactive widgets to good effect by drawing a Barnsley Fern. Let's see how the demo goes.\n",
    "\n",
    "Next, with the help of basemap, we can draw places on a world map like we would draw points on a graph paper.\n",
    "\n",
    "I know I would be excited if someone was showing me all these cool things when I was learning these things!"
   ]
  },
  {
   "cell_type": "markdown",
   "metadata": {
    "slideshow": {
     "slide_type": "slide"
    }
   },
   "source": [
    "\n",
    "### Python - Making other subjects more lively\n",
    "\n",
    "<img align=\"center\" src=\"images/collage1.png\"></img>\n",
    "\n",
    "\n",
    "- matplotlib\n",
    "\n",
    "- basemap\n",
    "\n",
    "- Interactive Jupyter Notebooks\n",
    "\n"
   ]
  },
  {
   "cell_type": "markdown",
   "metadata": {
    "slideshow": {
     "slide_type": "subslide"
    }
   },
   "source": [
    "\n",
    "#### Bringing Science to life\n",
    "\n",
    "*Animation of a Projectile motion* [(Python Source)](https://github.com/doingmathwithpython/pycon-us-2016/blob/master/py-files/projectile_animation.py)\n",
    "\n",
    "\n"
   ]
  },
  {
   "cell_type": "code",
   "execution_count": 11,
   "metadata": {
    "collapsed": false
   },
   "outputs": [
    {
     "data": {
      "image/jpeg": "[encoded data removed]",
      "text/html": [
       "\n",
       "        <iframe\n",
       "            width=\"400\"\n",
       "            height=\"300\"\n",
       "            src=\"https://www.youtube.com/embed/8uWRVh58KdQ\"\n",
       "            frameborder=\"0\"\n",
       "            allowfullscreen\n",
       "        ></iframe>\n",
       "        "
      ],
      "text/plain": [
       "<IPython.lib.display.YouTubeVideo at 0x11d0474e0>"
      ]
     },
     "execution_count": 11,
     "metadata": {},
     "output_type": "execute_result"
    }
   ],
   "source": [
    "from IPython.display import YouTubeVideo\n",
    "YouTubeVideo(\"8uWRVh58KdQ\")"
   ]
  },
  {
   "cell_type": "markdown",
   "metadata": {
    "slideshow": {
     "slide_type": "subslide"
    }
   },
   "source": [
    "#### Exploring Fractals in Nature\n",
    "\n",
    "*Interactively drawing a Barnsley Fern* [(Notebook)](https://github.com/doingmathwithpython/pycon-us-2016/blob/master/notebooks/Interactive%20Barnsley%20Fern.ipynb)\n",
    "\n",
    "\n",
    "\n",
    "<img align=\"center\" src=\"images/fern.jpg\" width=\"400\" ></img>\n"
   ]
  },
  {
   "cell_type": "markdown",
   "metadata": {
    "slideshow": {
     "slide_type": "subslide"
    }
   },
   "source": [
    "\n",
    "#### The world is your graph paper\n",
    "\n",
    "*Showing places on a digital map* [(Notebook)](https://github.com/doingmathwithpython/pycon-us-2016/blob/master/notebooks/Maps%20using%20Basemap%20-%20demo.ipynb)"
   ]
  },
  {
   "cell_type": "markdown",
   "metadata": {
    "slideshow": {
     "slide_type": "notes"
    }
   },
   "source": [
    "Next, I would like to talk about my book \"Doing Math with Python\". My idea was attractive enough to get it published by No Starch Press which makes me hope that I am probably onto something.\n",
    "\n",
    "Has anybody read my book? What do you think of it? You have read it and came to my talk? I am feeling better :)\n",
    "\n",
    "I discuss all of the topics I discuss today in my talk. In addition, I discuss sets, probability and random numbers and descriptive statistics.\n",
    "\n",
    "It's being translated into several non-English languages.\n",
    "\n",
    "The reviews/feedback so far has been really positive. I don't have any first hand involvement in teaching, so it's very appreciative of people to share their viewpoints with me."
   ]
  },
  {
   "cell_type": "markdown",
   "metadata": {
    "slideshow": {
     "slide_type": "slide"
    }
   },
   "source": [
    "### Book: Doing Math With Python\n",
    "\n",
    "<img align=\"center\" src=\"images/dmwp-cover.png\" href=\"https://doingmathwithpython.github.io\"></img>\n",
    "\n",
    "Overview\n",
    "\n",
    "- All of what I have discussed so far\n",
    "\n",
    "- In addition: Descriptive statistics, Sets and Probability, Random numbers\n",
    "\n",
    "Published by [No Starch Press](https://www.nostarch.com/doingmathwithpython) in August, 2015.\n",
    "\n",
    "*Upcoming/In-progress translations*: Simplified Chinese, Japanese, French and Korean."
   ]
  },
  {
   "cell_type": "markdown",
   "metadata": {
    "slideshow": {
     "slide_type": "subslide"
    }
   },
   "source": [
    "#### Comments\n",
    "\n",
    "> Saha does an excellent job providing a clear link between Python and upper-level math concepts, and demonstrates how Python can be transformed into a mathematical stage. This book deserves a spot on every geometry teacher’s bookshelf.\n",
    "\n",
    "[School Library Journal](http://www.slj.com/2016/05/collection-development/read-watch-alikes/coding-lets-begin/#_)"
   ]
  },
  {
   "cell_type": "markdown",
   "metadata": {
    "slideshow": {
     "slide_type": "subslide"
    }
   },
   "source": [
    "\n",
    "> Outstanding guide to using Python to do maths. Working back through my undergrad maths using Python.\n"
   ]
  },
  {
   "cell_type": "markdown",
   "metadata": {
    "slideshow": {
     "slide_type": "subslide"
    }
   },
   "source": [
    "\n",
    "> Saha does an excellent job providing a clear link between Python and upper-level math concepts, and demonstrates how Python can be transformed into a mathematical stage."
   ]
  },
  {
   "cell_type": "markdown",
   "metadata": {
    "slideshow": {
     "slide_type": "fragment"
    }
   },
   "source": [
    "\n",
    "> This book is highly recommended for the high school or college student and anyone who is looking for a more natural way of programming math and scientific functions"
   ]
  },
  {
   "cell_type": "markdown",
   "metadata": {
    "slideshow": {
     "slide_type": "fragment"
    }
   },
   "source": [
    "> As a teacher I highly recommend this book as a way to work with someone in learning both math and programming\n"
   ]
  },
  {
   "cell_type": "markdown",
   "metadata": {
    "slideshow": {
     "slide_type": "notes"
    }
   },
   "source": [
    "Okay, so that's great. We have successfully used Python to make the learning experience of young learners more fun and immediately applicable. Can we derive more benefit from doing that? Like something for the future? We all love doing things for the future, don't we?\n",
    "\n",
    "I think yes, i think if we teach young learners the things we have discussed today, it is a great base for someone wanting to go into data science or machine learning.\n",
    "\n",
    "Statistics and visualising data are two very key factors of data science.\n",
    "\n",
    "Differential calculus and specifically the gradient descent method is a simple but useful optimization method used in Machine Learning. Let's see a demo of using gradient descent to find the minimum value of a function.\n",
    "\n",
    "Now, let's apply gradient descent as an optimizer in a Linear Regression problem."
   ]
  },
  {
   "cell_type": "markdown",
   "metadata": {
    "slideshow": {
     "slide_type": "slide"
    }
   },
   "source": [
    "### Great base for the future\n",
    "\n",
    "*Statistics and Graphing data* -> *Data Science*\n",
    "\n",
    "*Differential Calculus* -> *Machine learning*\n"
   ]
  },
  {
   "cell_type": "markdown",
   "metadata": {
    "slideshow": {
     "slide_type": "subslide"
    }
   },
   "source": [
    "### Application of differentiation\n",
    "\n",
    "Use gradient descent to find a function's minimum value [(Notebook)](https://github.com/doingmathwithpython/pycon-us-2016/blob/master/notebooks/Gradient%20Descent.ipynb)"
   ]
  },
  {
   "cell_type": "markdown",
   "metadata": {
    "collapsed": true,
    "slideshow": {
     "slide_type": "subslide"
    }
   },
   "source": [
    "### Predict the college admission score based on high school math score\n",
    "\n",
    "Use gradient descent as the optimizer for single variable linear regression model [(Notebook)](https://github.com/doingmathwithpython/pycon-us-2016/blob/master/notebooks/Simple%20Linear%20Regression.ipynb)\n",
    "\n"
   ]
  },
  {
   "cell_type": "markdown",
   "metadata": {
    "collapsed": true,
    "slideshow": {
     "slide_type": "subslide"
    }
   },
   "source": [
    "### Advanced libraries\n",
    "\n",
    "- [scipy](https://scipy.org)\n",
    "\n",
    "- [numpy](http://www.numpy.org/)\n",
    "\n",
    "- [scikit-learn](http://scikit-learn.org/stable/)\n",
    "\n",
    "- [pandas](http://pandas.pydata.org/)\n",
    "\n",
    "- [Statsmodels](http://statsmodels.sourceforge.net/)\n",
    "\n"
   ]
  },
  {
   "cell_type": "markdown",
   "metadata": {
    "slideshow": {
     "slide_type": "slide"
    }
   },
   "source": [
    "\n",
    "### Dialogue\n",
    "\n",
    "Questions, Thoughts, comments, discussions? \n",
    "\n",
    "\n",
    "#### Online \n",
    "\n",
    "- Twitter: @echorand\n",
    "\n",
    "- Email: amitsaha.in@gmail.com\n",
    "    \n"
   ]
  },
  {
   "cell_type": "markdown",
   "metadata": {
    "slideshow": {
     "slide_type": "slide"
    }
   },
   "source": [
    "### PyCon Special!\n",
    "\n",
    "*Use PYCONMATH code to get 30% off \"Doing Math with Python\" from [No Starch Press](https://www.nostarch.com/doingmathwithpython)*\n",
    "\n",
    "\n",
    "<img align=\"center\" src=\"images/dmwp-cover.png\" href=\"https://doingmathwithpython.github.io\"></img>\n",
    "\n",
    "\n",
    "(Valid from  May 26th - June 8th) \n",
    "\n",
    "Book Signing - May 31st - 2.00 PM - No Starch Press booth"
   ]
  },
  {
   "cell_type": "markdown",
   "metadata": {
    "slideshow": {
     "slide_type": "slide"
    }
   },
   "source": [
    "### Acknowledgements\n",
    "\n",
    "PyCon US Education Summit team for inviting me\n",
    "\n"
   ]
  },
  {
   "cell_type": "markdown",
   "metadata": {
    "slideshow": {
     "slide_type": "fragment"
    }
   },
   "source": [
    "Thanks to PyCon US for reduced registration rates\n"
   ]
  },
  {
   "cell_type": "markdown",
   "metadata": {
    "slideshow": {
     "slide_type": "fragment"
    }
   },
   "source": [
    "\n",
    "Massive thanks to my employer, Freelancer.com for sponsoring my travel and stay \n"
   ]
  },
  {
   "cell_type": "markdown",
   "metadata": {
    "slideshow": {
     "slide_type": "slide"
    }
   },
   "source": [
    "### Links\n",
    "\n",
    "- [Upcoming O'Reilly Webcast](http://www.oreilly.com/pub/e/3712)\n",
    "\n",
    "- [Doing Math with Python](https://nostarch.com/doingmathwithpython)\n",
    "\n",
    "- [Doing Math with Python Blog](https://doingmathwithpython.github.io)\n",
    "\n",
    "- [Doing Math with Python on GitHub](https://github.com/doingmathwithpython)\n",
    "\n"
   ]
  }
 ],
 "metadata": {
  "anaconda-cloud": {},
  "celltoolbar": "Slideshow",
  "kernelspec": {
   "display_name": "Python [conda root]",
   "language": "python",
   "name": "conda-root-py"
  },
  "language_info": {
   "codemirror_mode": {
    "name": "ipython",
    "version": 3
   },
   "file_extension": ".py",
   "mimetype": "text/x-python",
   "name": "python",
   "nbconvert_exporter": "python",
   "pygments_lexer": "ipython3",
   "version": "3.5.2"
  }
 },
 "nbformat": 4,
 "nbformat_minor": 0
}
